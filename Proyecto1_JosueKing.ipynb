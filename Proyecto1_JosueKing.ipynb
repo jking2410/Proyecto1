{
 "cells": [
  {
   "attachments": {},
   "cell_type": "markdown",
   "metadata": {},
   "source": [
    "<h1><center>Proyecto 1</center></h1>\n",
    "<h3><center>Josue King</center></h3>\n"
   ]
  },
  {
   "attachments": {},
   "cell_type": "markdown",
   "metadata": {},
   "source": [
    "## Carga y Separacion de datos"
   ]
  },
  {
   "cell_type": "code",
   "execution_count": null,
   "metadata": {},
   "outputs": [],
   "source": [
    "import numpy as np\n",
    "import seaborn as sns"
   ]
  },
  {
   "cell_type": "code",
   "execution_count": null,
   "metadata": {},
   "outputs": [],
   "source": [
    "ds = np.load('data\\proyecto_training_data.npy')\n",
    "dfit = ds[:1168]\n",
    "dtest = ds[1168:]"
   ]
  },
  {
   "attachments": {},
   "cell_type": "markdown",
   "metadata": {},
   "source": [
    "## Analisis Exploratorio"
   ]
  },
  {
   "attachments": {},
   "cell_type": "markdown",
   "metadata": {},
   "source": [
    "### Variable 1 - SalePrice"
   ]
  },
  {
   "cell_type": "code",
   "execution_count": null,
   "metadata": {},
   "outputs": [],
   "source": [
    "v1 = dfit[:,:1]\n",
    "min1 = np.amin(v1)\n",
    "max1 = np.amax(v1)\n",
    "std1 = np.std(v1)\n",
    "ptp1 = np.ptp(v1)\n",
    "\n",
    "print('''Variable 1 - SalePrice \n",
    "    Valor Minimo: {}\n",
    "    Valor Maximo: {}\n",
    "    Desviacion Estandar: {}\n",
    "    Rango: {}''' .format(min1, max1, std1, ptp1))"
   ]
  },
  {
   "attachments": {},
   "cell_type": "markdown",
   "metadata": {},
   "source": [
    "### Variable 2 - OverallQual"
   ]
  },
  {
   "cell_type": "code",
   "execution_count": null,
   "metadata": {},
   "outputs": [],
   "source": [
    "v2 = dfit[:,1:2]\n",
    "min2 = np.amin(v2)\n",
    "max2 = np.amax(v2)\n",
    "std2 = np.std(v2)\n",
    "ptp2 = np.ptp(v2)\n",
    "\n",
    "print('''Variable 2 - OverallQual \n",
    "    Valor Minimo: {}\n",
    "    Valor Maximo: {}\n",
    "    Desviacion Estandar: {}\n",
    "    Rango: {}''' .format(min2, max2, std2, ptp2))"
   ]
  },
  {
   "attachments": {},
   "cell_type": "markdown",
   "metadata": {},
   "source": [
    "### Variable 3 - 1stFlrSF"
   ]
  },
  {
   "cell_type": "code",
   "execution_count": null,
   "metadata": {},
   "outputs": [],
   "source": [
    "v3 = dfit[:,2:3]\n",
    "min3 = np.amin(v3)\n",
    "max3 = np.amax(v3)\n",
    "std3 = np.std(v3)\n",
    "ptp3 = np.ptp(v3)\n",
    "\n",
    "print('''Variable 3 - 1stFlrSF \n",
    "    Valor Minimo: {}\n",
    "    Valor Maximo: {}\n",
    "    Desviacion Estandar: {}\n",
    "    Rango: {}''' .format(min3, max3, std3, ptp3))"
   ]
  },
  {
   "attachments": {},
   "cell_type": "markdown",
   "metadata": {},
   "source": [
    "### Variable 4 - TotRmsAbvGrd"
   ]
  },
  {
   "cell_type": "code",
   "execution_count": null,
   "metadata": {},
   "outputs": [],
   "source": [
    "v4 = dfit[:,3:4]\n",
    "min4 = np.amin(v4)\n",
    "max4 = np.amax(v4)\n",
    "std4 = np.std(v4)\n",
    "ptp4 = np.ptp(v4)\n",
    "\n",
    "print('''Variable 4 - TotRmsAbvGrd \n",
    "    Valor Minimo: {}\n",
    "    Valor Maximo: {}\n",
    "    Desviacion Estandar: {}\n",
    "    Rango: {}''' .format(min4, max4, std4, ptp4))"
   ]
  },
  {
   "attachments": {},
   "cell_type": "markdown",
   "metadata": {},
   "source": [
    "### Variable 5 - YearBuilt"
   ]
  },
  {
   "cell_type": "code",
   "execution_count": null,
   "metadata": {},
   "outputs": [],
   "source": [
    "v5 = dfit[:,4:5]\n",
    "min5 = np.amin(v5)\n",
    "max5 = np.amax(v5)\n",
    "std5 = np.std(v5)\n",
    "ptp5 = np.ptp(v5)\n",
    "\n",
    "print('''Variable 5 - YearBuilt: \n",
    "    Valor Minimo: {}\n",
    "    Valor Maximo: {}\n",
    "    Desviacion Estandar: {}\n",
    "    Rango: {}''' .format(min5, max5, std5, ptp5))"
   ]
  },
  {
   "attachments": {},
   "cell_type": "markdown",
   "metadata": {},
   "source": [
    "### Variable 6 - LotFrontage"
   ]
  },
  {
   "cell_type": "code",
   "execution_count": null,
   "metadata": {},
   "outputs": [],
   "source": [
    "v6 = np.nan_to_num(dfit[:,5:6], nan=0.0)\n",
    "min6 = np.amin(v6)\n",
    "max6 = np.amax(v6)\n",
    "std6 = np.std(v6)\n",
    "ptp6 = np.ptp(v6)\n",
    "\n",
    "print('''Variable 6 - LotFrontage:\n",
    "    Valor Minimo: {}\n",
    "    Valor Maximo: {}\n",
    "    Desviacion Estandar: {}\n",
    "    Rango: {}''' .format(min6, max6, std6, ptp6))"
   ]
  },
  {
   "attachments": {},
   "cell_type": "markdown",
   "metadata": {},
   "source": [
    "## Histogramas"
   ]
  },
  {
   "attachments": {},
   "cell_type": "markdown",
   "metadata": {},
   "source": [
    "### Variable 1 - SalePrice"
   ]
  },
  {
   "cell_type": "code",
   "execution_count": null,
   "metadata": {},
   "outputs": [],
   "source": [
    "hist1 = sns.histplot(data=v1)\n",
    "hist1.set(xlabel='SalePrice')"
   ]
  },
  {
   "attachments": {},
   "cell_type": "markdown",
   "metadata": {},
   "source": [
    "### Variable 2 - OverallQual"
   ]
  },
  {
   "cell_type": "code",
   "execution_count": null,
   "metadata": {},
   "outputs": [],
   "source": [
    "hist2 = sns.histplot(data=v2)\n",
    "hist2.set(xlabel='OverallQual')"
   ]
  },
  {
   "attachments": {},
   "cell_type": "markdown",
   "metadata": {},
   "source": [
    "### Variable 3 - 1stFlrSF"
   ]
  },
  {
   "cell_type": "code",
   "execution_count": null,
   "metadata": {},
   "outputs": [],
   "source": [
    "hist3 = sns.histplot(data=v3)\n",
    "hist3.set(xlabel='1stFlrSF')"
   ]
  },
  {
   "attachments": {},
   "cell_type": "markdown",
   "metadata": {},
   "source": [
    "### Variable 4 - TotRmsAbvGrd"
   ]
  },
  {
   "cell_type": "code",
   "execution_count": null,
   "metadata": {},
   "outputs": [],
   "source": [
    "hist4 = sns.histplot(data=v4)\n",
    "hist4.set(xlabel='TotRmsAbvGrd')"
   ]
  },
  {
   "attachments": {},
   "cell_type": "markdown",
   "metadata": {},
   "source": [
    "### Variable 5 - YearBuilt"
   ]
  },
  {
   "cell_type": "code",
   "execution_count": null,
   "metadata": {},
   "outputs": [],
   "source": [
    "hist5 = sns.histplot(data=v5)\n",
    "hist5.set(xlabel='YearBuilt')"
   ]
  },
  {
   "attachments": {},
   "cell_type": "markdown",
   "metadata": {},
   "source": [
    "### Variable 6 - LotFrontage"
   ]
  },
  {
   "cell_type": "code",
   "execution_count": null,
   "metadata": {},
   "outputs": [],
   "source": [
    "hist6 = sns.histplot(data=v6)\n",
    "hist6.set(xlabel='LotFrontage')"
   ]
  }
 ],
 "metadata": {
  "kernelspec": {
   "display_name": "base",
   "language": "python",
   "name": "python3"
  },
  "language_info": {
   "codemirror_mode": {
    "name": "ipython",
    "version": 3
   },
   "file_extension": ".py",
   "mimetype": "text/x-python",
   "name": "python",
   "nbconvert_exporter": "python",
   "pygments_lexer": "ipython3",
   "version": "3.7.0"
  },
  "orig_nbformat": 4
 },
 "nbformat": 4,
 "nbformat_minor": 2
}
